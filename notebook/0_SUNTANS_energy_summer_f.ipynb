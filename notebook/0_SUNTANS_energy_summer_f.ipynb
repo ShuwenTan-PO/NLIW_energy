{
 "cells": [
  {
   "cell_type": "code",
   "execution_count": 1,
   "id": "dd7fb80f-f358-4340-be08-4e81befc1270",
   "metadata": {},
   "outputs": [],
   "source": [
    "%matplotlib inline\n",
    "import numpy as np\n",
    "import xarray as xr\n",
    "import matplotlib.pyplot as plt\n",
    "import os\n",
    "import scipy.io as sio\n",
    "import matplotlib\n",
    "import logging\n",
    "\n",
    "import utils as utils\n",
    "from matplotlib import cm"
   ]
  },
  {
   "cell_type": "code",
   "execution_count": 2,
   "id": "7501638e-cc87-4e6c-ab00-7b78b999f07a",
   "metadata": {},
   "outputs": [],
   "source": [
    "runname = 'debug_withC_rogers_netcdfBdy1_EB_soliton_f_withsponge_focus_finey_summer'\n",
    "datafilepath = '/Volumes/Tan_2023/projects_backup/SUNTANS/HPC/'+runname+'/data/'\n",
    "\n",
    "# datafilename = 'sun_out.nc_0000.nc'\n",
    "datafilename = 'sun_sparse.nc_0000.nc'\n",
    "\n",
    "# path to saved result\n",
    "resultfilepath = datafilepath[:-5] + 'mfiles/results/'\n",
    "# path to saved figures\n",
    "outfilepath = '../figure/'\n",
    "if not os.path.exists(resultfilepath):\n",
    "    os.mkdir(resultfilepath)\n",
    "if not os.path.exists(outfilepath):\n",
    "    os.mkdir(outfilepath)\n",
    "\n",
    "param_data = {\n",
    "    \"datafilepath\": datafilepath,\n",
    "    \"netcdf_filename\": datafilename,\n",
    "            }\n",
    "param_result = {\n",
    "    \"resultfilepath\": resultfilepath,\n",
    "    \"result_filename\": 'sun_out_energy_derived.nc',\n",
    "            }\n",
    "idx_end = -15"
   ]
  },
  {
   "cell_type": "markdown",
   "id": "50425234-2072-4bba-80fd-02043d814bc1",
   "metadata": {},
   "source": [
    "# Organize data output"
   ]
  },
  {
   "cell_type": "code",
   "execution_count": 3,
   "id": "9347e18b-5ccc-4da8-b973-c5b81309be8c",
   "metadata": {},
   "outputs": [],
   "source": [
    "# read data\n",
    "Data = xr.open_dataset(datafilepath+datafilename)\n",
    "\n",
    "# grid info\n",
    "import mat73\n",
    "grid = mat73.loadmat('/Volumes/Tan_2023/projects_backup/SUNTANS/HPC/'+runname+'/mfiles/SUNTANS_grid.mat', only_include=['Nk', 'Nx', 'Ny', 'Depth']) \n",
    "\n",
    "Nx = grid['Nx'].astype('int')\n",
    "Ny = grid['Ny'].astype('int')\n",
    "Nk = grid['Nk'].astype('int')\n",
    "Nc = Nx*Ny\n",
    "# Depth = np.reshape(grid['Depth'].astype('int'), (Nx, Ny), order='F')\n",
    "Depth = np.reshape(grid['Depth'], (Nx, Ny), order='F')\n",
    "\n",
    "xv = np.reshape(Data.xv.data, (Nx, Ny), order='F')\n",
    "yv = np.reshape(Data.yv.data, (Nx, Ny), order='F')"
   ]
  },
  {
   "cell_type": "markdown",
   "id": "f1f30dce-e863-475e-b186-05405ce635ff",
   "metadata": {},
   "source": [
    "## _derived"
   ]
  },
  {
   "cell_type": "code",
   "execution_count": 4,
   "id": "13e15922-183f-48b0-b5f3-c6f8d902e7bb",
   "metadata": {},
   "outputs": [],
   "source": [
    "dEk_prime = np.reshape(Data.dEk_prime.data, (len(Data.time), Nx, Ny), order='F')\n",
    "dEp_prime = np.reshape(Data.dEp_prime.data, (len(Data.time), Nx, Ny), order='F')"
   ]
  },
  {
   "cell_type": "code",
   "execution_count": 5,
   "id": "94e0f408-1789-4ab3-8095-e6435d445f43",
   "metadata": {},
   "outputs": [],
   "source": [
    "dEp0 = np.reshape(Data.dEp0.data, (len(Data.time), Nx, Ny), order='F')\n",
    "dEk0 = np.reshape(Data.dEk0.data, (len(Data.time), Nx, Ny), order='F')\n",
    "\n",
    "data = xr.Dataset({'dEp0': (['time','x', 'y'], dEp0),\n",
    "                   'dEp_prime': (['time','x', 'y'], dEp_prime),\n",
    "                   'dEk0': (['time','x', 'y'], dEk0),\n",
    "                   'dEk_prime': (['time','x', 'y'], dEk_prime),\n",
    "                  },\n",
    "                  coords={'x': xv[:,0],\n",
    "                          'y': yv[0,:],\n",
    "                          'z': -Data.z_r.data,\n",
    "                          'time': Data.time.data},\n",
    "                  attrs={'title': 'SUNTANS internally calculated energy budget'}) \n",
    "\n",
    "del dEp0, dEp_prime, dEk0, dEk_prime\n",
    "\n",
    "C1 = np.reshape(Data.C1_int.data, (len(Data.time), Nx, Ny), order='F')\n",
    "C2 = np.reshape(Data.C2_int.data, (len(Data.time), Nx, Ny), order='F')\n",
    "data[\"C_int\"]=(['time', 'x', 'y'],  C1+C2)\n",
    "\n",
    "del C1, C2\n",
    "\n",
    "D_0 = np.reshape(Data.D_0_int.data, (len(Data.time), Nx, Ny), order='F')\n",
    "D_prime = np.reshape(Data.D_prime_int.data, (len(Data.time), Nx, Ny), order='F')\n",
    "data[\"D0\"]=(['time', 'x', 'y'],  D_0)\n",
    "data[\"D_prime\"]=(['time', 'x', 'y'],  D_prime)\n",
    "\n",
    "del D_0, D_prime\n",
    "\n",
    "data[\"depth\"]=(['x', 'y'],  Depth)\n",
    "\n",
    "data.to_netcdf(param_result['resultfilepath']+param_result['result_filename'])"
   ]
  },
  {
   "cell_type": "code",
   "execution_count": 6,
   "id": "ef5165c9-0f7f-4caa-a0c4-bf6e7cf8230e",
   "metadata": {},
   "outputs": [],
   "source": [
    "del data"
   ]
  },
  {
   "cell_type": "markdown",
   "id": "6e832b44-9838-4fb2-bd50-008714a799b4",
   "metadata": {},
   "source": [
    "## _bt_flux"
   ]
  },
  {
   "cell_type": "code",
   "execution_count": 4,
   "id": "649441b5-695a-4726-b7bf-5500dab17f33",
   "metadata": {},
   "outputs": [],
   "source": [
    "Fx_01 = np.reshape(Data.Fx_01_int.data, (len(Data.time), Nx, Ny), order='F')\n",
    "Fx_02 = np.reshape(Data.Fx_02_int.data, (len(Data.time), Nx, Ny), order='F')\n",
    "Fx_03 = np.reshape(Data.Fx_03_int.data, (len(Data.time), Nx, Ny), order='F')\n",
    "Fx_04 = np.reshape(Data.Fx_04_int.data, (len(Data.time), Nx, Ny), order='F')\n",
    "\n",
    "data_bt = xr.Dataset({'Fx_01_int': (['time','x', 'y'], Fx_01),\n",
    "                  },\n",
    "                  coords={'x': xv[:,0],\n",
    "                          'y': yv[0,:],\n",
    "                          'z': -Data.z_r.data,\n",
    "                          'time': Data.time.data},\n",
    "                  attrs={'title': 'SUNTANS internally calculated energy budget'}) \n",
    "data_bt[\"Fx_02_int\"]=(['time', 'x', 'y'],  Fx_02)\n",
    "data_bt[\"Fx_03_int\"]=(['time', 'x', 'y'],  Fx_03)\n",
    "data_bt[\"Fx_04_int\"]=(['time', 'x', 'y'],  Fx_04)\n",
    "\n",
    "del Fx_01, Fx_02, Fx_03, Fx_04\n",
    "\n",
    "Fy_01 = np.reshape(Data.Fy_01_int.data, (len(Data.time), Nx, Ny), order='F')\n",
    "Fy_02 = np.reshape(Data.Fy_02_int.data, (len(Data.time), Nx, Ny), order='F')\n",
    "Fy_03 = np.reshape(Data.Fy_03_int.data, (len(Data.time), Nx, Ny), order='F')\n",
    "Fy_04 = np.reshape(Data.Fy_04_int.data, (len(Data.time), Nx, Ny), order='F')\n",
    "\n",
    "data_bt[\"Fy_01_int\"]=(['time', 'x', 'y'],  Fy_01)\n",
    "data_bt[\"Fy_02_int\"]=(['time', 'x', 'y'],  Fy_02)\n",
    "data_bt[\"Fy_03_int\"]=(['time', 'x', 'y'],  Fy_03)\n",
    "data_bt[\"Fy_04_int\"]=(['time', 'x', 'y'],  Fy_04)\n",
    "\n",
    "del Fy_01, Fy_02, Fy_03, Fy_04\n",
    "\n",
    "data_bt.to_netcdf(param_result['resultfilepath']+param_result['result_filename'][:-3]+'_bt_flux.nc')"
   ]
  },
  {
   "cell_type": "code",
   "execution_count": 5,
   "id": "e80923cf-6942-45ed-b6de-6b30e74ff11a",
   "metadata": {},
   "outputs": [],
   "source": [
    "del data_bt"
   ]
  },
  {
   "cell_type": "markdown",
   "id": "700fcf33-93e7-4b3c-be4d-f8b09ca8282f",
   "metadata": {},
   "source": [
    "## _bc_flux"
   ]
  },
  {
   "cell_type": "code",
   "execution_count": 4,
   "id": "700ce5b3-e847-44f9-a051-65816835399c",
   "metadata": {},
   "outputs": [],
   "source": [
    "Fx_prime1 = np.reshape(Data.Fx_prime1_int.data, (len(Data.time), Nx, Ny), order='F')\n",
    "Fx_prime2 = np.reshape(Data.Fx_prime2_int.data, (len(Data.time), Nx, Ny), order='F')\n",
    "Fx_prime3 = np.reshape(Data.Fx_prime3_int.data, (len(Data.time), Nx, Ny), order='F')\n",
    "Fx_prime4 = np.reshape(Data.Fx_prime4_int.data, (len(Data.time), Nx, Ny), order='F')\n",
    "Fx_prime5 = np.reshape(Data.Fx_prime5_int.data, (len(Data.time), Nx, Ny), order='F')\n",
    "\n",
    "data_bc = xr.Dataset({'Fx_prime1_int': (['time','x', 'y'], Fx_prime1),\n",
    "                  },\n",
    "                  coords={'x': xv[:,0],\n",
    "                          'y': yv[0,:],\n",
    "                          'z': -Data.z_r.data,\n",
    "                          'time': Data.time.data},\n",
    "                  attrs={'title': 'SUNTANS internally calculated energy budget'}) \n",
    "data_bc[\"Fx_prime2_int\"]=(['time', 'x', 'y'],  Fx_prime2)\n",
    "data_bc[\"Fx_prime3_int\"]=(['time', 'x', 'y'],  Fx_prime3)\n",
    "data_bc[\"Fx_prime4_int\"]=(['time', 'x', 'y'],  Fx_prime4)\n",
    "data_bc[\"Fx_prime5_int\"]=(['time', 'x', 'y'],  Fx_prime5)\n",
    "\n",
    "del Fx_prime1, Fx_prime2, Fx_prime3, Fx_prime4, Fx_prime5\n",
    "\n",
    "Fy_prime1 = np.reshape(Data.Fy_prime1_int.data, (len(Data.time), Nx, Ny), order='F')\n",
    "Fy_prime2 = np.reshape(Data.Fy_prime2_int.data, (len(Data.time), Nx, Ny), order='F')\n",
    "Fy_prime3 = np.reshape(Data.Fy_prime3_int.data, (len(Data.time), Nx, Ny), order='F')\n",
    "Fy_prime4 = np.reshape(Data.Fy_prime4_int.data, (len(Data.time), Nx, Ny), order='F')\n",
    "Fy_prime5 = np.reshape(Data.Fy_prime5_int.data, (len(Data.time), Nx, Ny), order='F')\n",
    "\n",
    "data_bc[\"Fy_prime1_int\"]=(['time', 'x', 'y'],  Fy_prime1)\n",
    "data_bc[\"Fy_prime2_int\"]=(['time', 'x', 'y'],  Fy_prime2)\n",
    "data_bc[\"Fy_prime3_int\"]=(['time', 'x', 'y'],  Fy_prime3)\n",
    "data_bc[\"Fy_prime4_int\"]=(['time', 'x', 'y'],  Fy_prime4)\n",
    "data_bc[\"Fy_prime5_int\"]=(['time', 'x', 'y'],  Fy_prime5)\n",
    "\n",
    "del Fy_prime1, Fy_prime2, Fy_prime3, Fy_prime4, Fy_prime5\n",
    "del Data\n",
    "\n",
    "data_bc.to_netcdf(param_result['resultfilepath']+param_result['result_filename'][:-3]+'_bc_flux.nc')"
   ]
  },
  {
   "cell_type": "code",
   "execution_count": 6,
   "id": "af2d06e8-03d5-424f-bc34-d484b3cf8a7d",
   "metadata": {},
   "outputs": [],
   "source": [
    "del data_bc"
   ]
  },
  {
   "cell_type": "markdown",
   "id": "aac1ca03-2afc-44d3-a29d-43c7604feb07",
   "metadata": {},
   "source": [
    "## _derived"
   ]
  },
  {
   "cell_type": "code",
   "execution_count": 8,
   "id": "fefec79b-5bf5-4890-8715-5d622a6e2f10",
   "metadata": {},
   "outputs": [],
   "source": [
    "data_bt_flux = xr.open_dataset(param_result['resultfilepath']+param_result['result_filename'][:-3]+'_bt_flux.nc')\n",
    "\n",
    "div_F01 = data_bt_flux.Fx_01_int.differentiate(\"x\") + data_bt_flux.Fy_01_int.differentiate(\"y\")\n",
    "div_F02 = data_bt_flux.Fx_02_int.differentiate(\"x\") + data_bt_flux.Fy_02_int.differentiate(\"y\")\n",
    "div_F03 = data_bt_flux.Fx_03_int.differentiate(\"x\") + data_bt_flux.Fy_03_int.differentiate(\"y\")\n",
    "div_F04 = data_bt_flux.Fx_04_int.differentiate(\"x\") + data_bt_flux.Fy_04_int.differentiate(\"y\")\n",
    "\n",
    "del data_bt_flux"
   ]
  },
  {
   "cell_type": "code",
   "execution_count": 13,
   "id": "b079ff09-783c-414c-88ea-9da9c0eda0fd",
   "metadata": {},
   "outputs": [],
   "source": [
    "data_bt = xr.Dataset({'div_F01': (['time','x', 'y'], div_F01.data),\n",
    "                  },\n",
    "                  coords={'x': xv[:,0],\n",
    "                          'y': yv[0,:],\n",
    "                          'z': -Data.z_r.data,\n",
    "                          'time': Data.time.data},\n",
    "                  attrs={'title': 'SUNTANS internally calculated energy flux divergence'}) \n",
    "\n",
    "data_bt[\"div_F02\"]=(['time', 'x', 'y'],  div_F02.data)\n",
    "data_bt[\"div_F03\"]=(['time', 'x', 'y'],  div_F03.data)\n",
    "data_bt[\"div_F04\"]=(['time', 'x', 'y'],  div_F04.data)\n",
    "\n",
    "data_bt.to_netcdf(param_result['resultfilepath']+param_result['result_filename'][:-3]+'_bt.nc')\n",
    "\n",
    "del div_F01, div_F02, div_F03, div_F04, data_bt"
   ]
  },
  {
   "cell_type": "code",
   "execution_count": 4,
   "id": "92985947-695a-4570-a8df-19bdfd4d430d",
   "metadata": {},
   "outputs": [],
   "source": [
    "# read data\n",
    "data_bc_flux = xr.open_dataset(param_result['resultfilepath']+param_result['result_filename'][:-3]+'_bc_flux.nc')\n",
    "\n",
    "div_Fprime1 = data_bc_flux.Fx_prime1_int.differentiate(\"x\") + data_bc_flux.Fy_prime1_int.differentiate(\"y\")\n",
    "div_Fprime2 = data_bc_flux.Fx_prime2_int.differentiate(\"x\") + data_bc_flux.Fy_prime2_int.differentiate(\"y\")\n",
    "div_Fprime3 = data_bc_flux.Fx_prime3_int.differentiate(\"x\") + data_bc_flux.Fy_prime3_int.differentiate(\"y\")\n",
    "div_Fprime4 = data_bc_flux.Fx_prime4_int.differentiate(\"x\") + data_bc_flux.Fy_prime4_int.differentiate(\"y\")\n",
    "div_Fprime5 = data_bc_flux.Fx_prime5_int.differentiate(\"x\") + data_bc_flux.Fy_prime5_int.differentiate(\"y\")\n",
    "\n",
    "del data_bc_flux"
   ]
  },
  {
   "cell_type": "code",
   "execution_count": 6,
   "id": "dfb45e53-9209-4b7c-bc9e-cd9992cda09e",
   "metadata": {},
   "outputs": [],
   "source": [
    "data_bc = xr.Dataset({'div_Fprime1': (['time','x', 'y'], div_Fprime1.data),\n",
    "                  },\n",
    "                  coords={'x': xv[:,0],\n",
    "                          'y': yv[0,:],\n",
    "                          'z': -Data.z_r.data,\n",
    "                          'time': Data.time.data},\n",
    "                  attrs={'title': 'SUNTANS internally calculated energy flux divergence'}) \n",
    "\n",
    "data_bc[\"div_Fprime2\"]=(['time', 'x', 'y'],  div_Fprime2.data)\n",
    "data_bc[\"div_Fprime3\"]=(['time', 'x', 'y'],  div_Fprime3.data)\n",
    "data_bc[\"div_Fprime4\"]=(['time', 'x', 'y'],  div_Fprime4.data)\n",
    "data_bc[\"div_Fprime5\"]=(['time', 'x', 'y'],  div_Fprime5.data)\n",
    "\n",
    "data_bc.to_netcdf(param_result['resultfilepath']+param_result['result_filename'][:-3]+'_bc.nc')\n",
    "\n",
    "del div_Fprime1, div_Fprime2, div_Fprime3, div_Fprime4, div_Fprime5, data_bc"
   ]
  },
  {
   "cell_type": "code",
   "execution_count": 14,
   "id": "abf35a76-b567-4576-a6dd-379572495e87",
   "metadata": {},
   "outputs": [],
   "source": [
    "data_bt = xr.open_dataset(param_result['resultfilepath']+param_result['result_filename'][:-3]+'_bt.nc')\n",
    "data_bc = xr.open_dataset(param_result['resultfilepath']+param_result['result_filename'][:-3]+'_bc.nc')\n",
    "data = xr.open_dataset(param_result['resultfilepath']+param_result['result_filename'])\n",
    "\n",
    "dissip0 = -data.dEp0 - data.dEk0 - data_bt.div_F01 - data_bt.div_F02 - data_bt.div_F03 - data_bt.div_F04 - data.C_int - data.D0\n",
    "dissip_prime = -data.dEp_prime - data.dEk_prime - data_bc.div_Fprime1 - data_bc.div_Fprime2 - data_bc.div_Fprime3 - data_bc.div_Fprime4 - data_bc.div_Fprime5 + data.C_int - data.D_prime\n",
    "\n",
    "data[\"dissip0\"]=(['time', 'x', 'y'],  dissip0.data)\n",
    "data[\"dissip_prime\"]=(['time', 'x', 'y'],  dissip_prime.data)"
   ]
  },
  {
   "cell_type": "code",
   "execution_count": 19,
   "id": "dbe70379-6e75-44b0-a7d3-bacda89986b0",
   "metadata": {},
   "outputs": [],
   "source": [
    "data.to_netcdf(param_result['resultfilepath']+param_result['result_filename'])\n",
    "\n",
    "del data_bt, data_bc, data"
   ]
  },
  {
   "cell_type": "code",
   "execution_count": null,
   "id": "5f33450e-29bc-4502-96a3-1c5c00a41a24",
   "metadata": {},
   "outputs": [],
   "source": []
  }
 ],
 "metadata": {
  "kernelspec": {
   "display_name": "NLIW",
   "language": "python",
   "name": "nliw"
  },
  "language_info": {
   "codemirror_mode": {
    "name": "ipython",
    "version": 3
   },
   "file_extension": ".py",
   "mimetype": "text/x-python",
   "name": "python",
   "nbconvert_exporter": "python",
   "pygments_lexer": "ipython3",
   "version": "3.9.6"
  }
 },
 "nbformat": 4,
 "nbformat_minor": 5
}
